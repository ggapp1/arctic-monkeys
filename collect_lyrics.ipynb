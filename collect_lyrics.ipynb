{
 "cells": [
  {
   "cell_type": "code",
   "execution_count": null,
   "metadata": {},
   "outputs": [],
   "source": [
    "import lyricsgenius as genius\n",
    "\n",
    "api = genius.Genius('acuXLppwkekIpsvmONdLJ6ObmShme6Q92qp5f-DkP_uZTyO09VKDjREzrjE66yrq')\n",
    "artist = api.search_artist('arctic-monkeys')\n",
    "lyrics = artist.save_lyrics()"
   ]
  },
  {
   "cell_type": "code",
   "execution_count": 40,
   "metadata": {},
   "outputs": [
    {
     "name": "stdout",
     "output_type": "stream",
     "text": [
      "                 name                      album  \\\n",
      "0           Evil Twin   Suck It and See - Single   \n",
      "1  Only Ones Who Know  Favourite Worst Nightmare   \n",
      "2            Arabella                         AM   \n",
      "3     Cigarette Smoke      Beneath The Boardwalk   \n",
      "4   Reckless Serenade            Suck It and See   \n",
      "\n",
      "                                              lyrics  \n",
      "0  [Verse 1]\\nYou've never met before\\nBut still ...  \n",
      "1  [Verse 1]\\nIn a foreign place, the saving grac...  \n",
      "2  [Verse 1]\\nArabella's got some interstellar-ga...  \n",
      "3  Get out the way, mister\\nWith your short sharp...  \n",
      "4  [Verse 1]\\nTopless models doing Semaphore\\nWav...  \n"
     ]
    }
   ],
   "source": [
    "from glob import glob\n",
    "import json\n",
    "import pandas as pd\n",
    "\n",
    "df = pd.DataFrame(columns=['name','album','lyrics'])\n",
    "i = 0\n",
    "for json_file in glob('*.json'):\n",
    "    i = i + 1\n",
    "    with open(json_file) as f:\n",
    "        song = json.loads(f.read())\n",
    "        name = song['songs'][0]['title']\n",
    "        album = song['songs'][0]['album']\n",
    "        s_lyrics = song['songs'][0]['lyrics']\n",
    "        df = df.append({'name': name,'album': album,'lyrics': s_lyrics}, ignore_index=True)\n",
    "        \n",
    "print(df.head())\n",
    "df.to_csv('data/lyrics.csv', index=False)"
   ]
  },
  {
   "cell_type": "code",
   "execution_count": 41,
   "metadata": {},
   "outputs": [
    {
     "data": {
      "text/html": [
       "<div>\n",
       "<style scoped>\n",
       "    .dataframe tbody tr th:only-of-type {\n",
       "        vertical-align: middle;\n",
       "    }\n",
       "\n",
       "    .dataframe tbody tr th {\n",
       "        vertical-align: top;\n",
       "    }\n",
       "\n",
       "    .dataframe thead th {\n",
       "        text-align: right;\n",
       "    }\n",
       "</style>\n",
       "<table border=\"1\" class=\"dataframe\">\n",
       "  <thead>\n",
       "    <tr style=\"text-align: right;\">\n",
       "      <th></th>\n",
       "      <th>name</th>\n",
       "      <th>album</th>\n",
       "      <th>lyrics</th>\n",
       "    </tr>\n",
       "  </thead>\n",
       "  <tbody>\n",
       "    <tr>\n",
       "      <th>0</th>\n",
       "      <td>Evil Twin</td>\n",
       "      <td>Suck It and See - Single</td>\n",
       "      <td>[Verse 1]\\nYou've never met before\\nBut still ...</td>\n",
       "    </tr>\n",
       "    <tr>\n",
       "      <th>1</th>\n",
       "      <td>Only Ones Who Know</td>\n",
       "      <td>Favourite Worst Nightmare</td>\n",
       "      <td>[Verse 1]\\nIn a foreign place, the saving grac...</td>\n",
       "    </tr>\n",
       "    <tr>\n",
       "      <th>2</th>\n",
       "      <td>Arabella</td>\n",
       "      <td>AM</td>\n",
       "      <td>[Verse 1]\\nArabella's got some interstellar-ga...</td>\n",
       "    </tr>\n",
       "    <tr>\n",
       "      <th>3</th>\n",
       "      <td>Cigarette Smoke</td>\n",
       "      <td>Beneath The Boardwalk</td>\n",
       "      <td>Get out the way, mister\\nWith your short sharp...</td>\n",
       "    </tr>\n",
       "    <tr>\n",
       "      <th>4</th>\n",
       "      <td>Reckless Serenade</td>\n",
       "      <td>Suck It and See</td>\n",
       "      <td>[Verse 1]\\nTopless models doing Semaphore\\nWav...</td>\n",
       "    </tr>\n",
       "  </tbody>\n",
       "</table>\n",
       "</div>"
      ],
      "text/plain": [
       "                 name                      album  \\\n",
       "0           Evil Twin   Suck It and See - Single   \n",
       "1  Only Ones Who Know  Favourite Worst Nightmare   \n",
       "2            Arabella                         AM   \n",
       "3     Cigarette Smoke      Beneath The Boardwalk   \n",
       "4   Reckless Serenade            Suck It and See   \n",
       "\n",
       "                                              lyrics  \n",
       "0  [Verse 1]\\nYou've never met before\\nBut still ...  \n",
       "1  [Verse 1]\\nIn a foreign place, the saving grac...  \n",
       "2  [Verse 1]\\nArabella's got some interstellar-ga...  \n",
       "3  Get out the way, mister\\nWith your short sharp...  \n",
       "4  [Verse 1]\\nTopless models doing Semaphore\\nWav...  "
      ]
     },
     "execution_count": 41,
     "metadata": {},
     "output_type": "execute_result"
    }
   ],
   "source": [
    "data = pd.read_csv(\"data/lyrics.csv\") \n",
    "data.head()"
   ]
  },
  {
   "cell_type": "code",
   "execution_count": null,
   "metadata": {},
   "outputs": [],
   "source": []
  }
 ],
 "metadata": {
  "kernelspec": {
   "display_name": "Python 3",
   "language": "python",
   "name": "python3"
  },
  "language_info": {
   "codemirror_mode": {
    "name": "ipython",
    "version": 3
   },
   "file_extension": ".py",
   "mimetype": "text/x-python",
   "name": "python",
   "nbconvert_exporter": "python",
   "pygments_lexer": "ipython3",
   "version": "3.6.9"
  }
 },
 "nbformat": 4,
 "nbformat_minor": 2
}
